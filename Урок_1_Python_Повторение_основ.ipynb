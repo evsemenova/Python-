{
  "nbformat": 4,
  "nbformat_minor": 0,
  "metadata": {
    "colab": {
      "provenance": [],
      "collapsed_sections": [],
      "authorship_tag": "ABX9TyOmIeXMvyohbljBG+zfIZUy",
      "include_colab_link": true
    },
    "kernelspec": {
      "name": "python3",
      "display_name": "Python 3"
    },
    "language_info": {
      "name": "python"
    }
  },
  "cells": [
    {
      "cell_type": "markdown",
      "metadata": {
        "id": "view-in-github",
        "colab_type": "text"
      },
      "source": [
        "<a href=\"https://colab.research.google.com/github/evsemenova/Python-for-Analysts/blob/HW_1/%D0%A3%D1%80%D0%BE%D0%BA_1_Python_%D0%9F%D0%BE%D0%B2%D1%82%D0%BE%D1%80%D0%B5%D0%BD%D0%B8%D0%B5_%D0%BE%D1%81%D0%BD%D0%BE%D0%B2.ipynb\" target=\"_parent\"><img src=\"https://colab.research.google.com/assets/colab-badge.svg\" alt=\"Open In Colab\"/></a>"
      ]
    },
    {
      "cell_type": "markdown",
      "source": [
        "**1. Написать цикл для выведения на экран каждой буквы своего ФИО.**"
      ],
      "metadata": {
        "id": "AiJykz1ffSLi"
      }
    },
    {
      "cell_type": "code",
      "source": [
        "full_name = input('Введите своё ФИО ').title()\n",
        "for fio in full_name:\n",
        "  print(fio)"
      ],
      "metadata": {
        "colab": {
          "base_uri": "https://localhost:8080/"
        },
        "id": "2lJJca-PfVKJ",
        "outputId": "d994cd4e-4d1c-46ab-c4ec-56179dd7b012"
      },
      "execution_count": null,
      "outputs": [
        {
          "output_type": "stream",
          "name": "stdout",
          "text": [
            "Введите своё ФИО Семенова Елена Викторовна\n",
            "С\n",
            "е\n",
            "м\n",
            "е\n",
            "н\n",
            "о\n",
            "в\n",
            "а\n",
            " \n",
            "Е\n",
            "л\n",
            "е\n",
            "н\n",
            "а\n",
            " \n",
            "В\n",
            "и\n",
            "к\n",
            "т\n",
            "о\n",
            "р\n",
            "о\n",
            "в\n",
            "н\n",
            "а\n"
          ]
        }
      ]
    },
    {
      "cell_type": "markdown",
      "source": [
        "**2. Написать функцию для перевода доллара в евро c округлением до 2х знаков после запятой, если известно, что текущий курс составляет 1.17 долларов за один евро.**"
      ],
      "metadata": {
        "id": "bKYMeBXxffRM"
      }
    },
    {
      "cell_type": "code",
      "source": [
        "def convertation(dollar):\n",
        "    return(f\"Сумма в евро составит {dollar * 1.17:.2f}\")\n",
        "\n",
        "\n",
        "convertation(10)"
      ],
      "metadata": {
        "colab": {
          "base_uri": "https://localhost:8080/",
          "height": 36
        },
        "id": "RsUnLqWwf-BZ",
        "outputId": "1691bc32-f897-4644-e510-bba5a9fa2c2f"
      },
      "execution_count": null,
      "outputs": [
        {
          "output_type": "execute_result",
          "data": {
            "text/plain": [
              "'Сумма в евро составит 11.70'"
            ],
            "application/vnd.google.colaboratory.intrinsic+json": {
              "type": "string"
            }
          },
          "metadata": {},
          "execution_count": 7
        }
      ]
    }
  ]
}